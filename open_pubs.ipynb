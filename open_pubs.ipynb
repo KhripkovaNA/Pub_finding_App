{
  "nbformat": 4,
  "nbformat_minor": 0,
  "metadata": {
    "colab": {
      "provenance": []
    },
    "kernelspec": {
      "name": "python3",
      "display_name": "Python 3"
    },
    "language_info": {
      "name": "python"
    }
  },
  "cells": [
    {
      "cell_type": "code",
      "execution_count": null,
      "metadata": {
        "id": "_aM2gaDqHucy"
      },
      "outputs": [],
      "source": [
        "import pandas as pd\n",
        "import numpy as np"
      ]
    },
    {
      "cell_type": "code",
      "source": [
        "descr_df = pd.read_csv('data_dictionary.csv')"
      ],
      "metadata": {
        "id": "03y-I0aPkYjf"
      },
      "execution_count": null,
      "outputs": []
    },
    {
      "cell_type": "markdown",
      "source": [
        "|index|Field|Possible Values|Comments|\n",
        "|---|---|---|---|\n",
        "|0|fsa\\_id|int|Food Standard Agency's ID for this pub\\.|\n",
        "|1|name|string|Name of the pub\\.|\n",
        "|2|address|string|Address fields separated by commas\\.|\n",
        "|3|postcode|string|Postcode of the pub\\.|\n",
        "|4|easting|int|NaN|\n",
        "|5|northing|int|NaN|\n",
        "|6|latitude|decimal|NaN|\n",
        "|7|longitude|decimal|NaN|\n",
        "|8|local\\_authority|string|Local authority this pub falls under\\.|"
      ],
      "metadata": {
        "id": "bV44PSj9md31"
      }
    },
    {
      "cell_type": "code",
      "source": [
        "pubs = pd.read_csv('open_pubs.csv', names=descr_df['Field'])\n",
        "pubs.head()"
      ],
      "metadata": {
        "colab": {
          "base_uri": "https://localhost:8080/",
          "height": 337
        },
        "id": "-wGaN_7imwiu",
        "outputId": "dba20c4c-e8e2-4af9-9315-c1a72e37c164"
      },
      "execution_count": null,
      "outputs": [
        {
          "output_type": "execute_result",
          "data": {
            "text/plain": [
              "   fsa_id                name  \\\n",
              "0      22          Anchor Inn   \n",
              "1      36  Ark Bar Restaurant   \n",
              "2      74           Black Boy   \n",
              "3      75         Black Horse   \n",
              "4      76          Black Lion   \n",
              "\n",
              "                                             address  postcode  easting  \\\n",
              "0        Upper Street, Stratford St Mary, COLCHESTER   CO7 6LW   604749   \n",
              "1  Ark Bar And Restaurant, Cattawade Street, Bran...  CO11 1RH   610194   \n",
              "2  The Lady Elizabeth, 7 Market Hill, SUDBURY, Su...  CO10 2EA   587334   \n",
              "3        Lower Street, Stratford St Mary, COLCHESTER   CO7 6JS   622675   \n",
              "4                      Lion Road, Glemsford, SUDBURY  CO10 7RF   622675   \n",
              "\n",
              "   northing   latitude longitude local_authority  \n",
              "0    234404  51.970379  0.979340         Babergh  \n",
              "1    233329  51.958698  1.057832         Babergh  \n",
              "2    241316  52.038595  0.729915         Babergh  \n",
              "3  -5527598         \\N        \\N         Babergh  \n",
              "4  -5527598         \\N        \\N         Babergh  "
            ],
            "text/html": [
              "\n",
              "  <div id=\"df-1a4b5eb2-2a3e-405f-b4c5-e65fd71836ac\">\n",
              "    <div class=\"colab-df-container\">\n",
              "      <div>\n",
              "<style scoped>\n",
              "    .dataframe tbody tr th:only-of-type {\n",
              "        vertical-align: middle;\n",
              "    }\n",
              "\n",
              "    .dataframe tbody tr th {\n",
              "        vertical-align: top;\n",
              "    }\n",
              "\n",
              "    .dataframe thead th {\n",
              "        text-align: right;\n",
              "    }\n",
              "</style>\n",
              "<table border=\"1\" class=\"dataframe\">\n",
              "  <thead>\n",
              "    <tr style=\"text-align: right;\">\n",
              "      <th></th>\n",
              "      <th>fsa_id</th>\n",
              "      <th>name</th>\n",
              "      <th>address</th>\n",
              "      <th>postcode</th>\n",
              "      <th>easting</th>\n",
              "      <th>northing</th>\n",
              "      <th>latitude</th>\n",
              "      <th>longitude</th>\n",
              "      <th>local_authority</th>\n",
              "    </tr>\n",
              "  </thead>\n",
              "  <tbody>\n",
              "    <tr>\n",
              "      <th>0</th>\n",
              "      <td>22</td>\n",
              "      <td>Anchor Inn</td>\n",
              "      <td>Upper Street, Stratford St Mary, COLCHESTER</td>\n",
              "      <td>CO7 6LW</td>\n",
              "      <td>604749</td>\n",
              "      <td>234404</td>\n",
              "      <td>51.970379</td>\n",
              "      <td>0.979340</td>\n",
              "      <td>Babergh</td>\n",
              "    </tr>\n",
              "    <tr>\n",
              "      <th>1</th>\n",
              "      <td>36</td>\n",
              "      <td>Ark Bar Restaurant</td>\n",
              "      <td>Ark Bar And Restaurant, Cattawade Street, Bran...</td>\n",
              "      <td>CO11 1RH</td>\n",
              "      <td>610194</td>\n",
              "      <td>233329</td>\n",
              "      <td>51.958698</td>\n",
              "      <td>1.057832</td>\n",
              "      <td>Babergh</td>\n",
              "    </tr>\n",
              "    <tr>\n",
              "      <th>2</th>\n",
              "      <td>74</td>\n",
              "      <td>Black Boy</td>\n",
              "      <td>The Lady Elizabeth, 7 Market Hill, SUDBURY, Su...</td>\n",
              "      <td>CO10 2EA</td>\n",
              "      <td>587334</td>\n",
              "      <td>241316</td>\n",
              "      <td>52.038595</td>\n",
              "      <td>0.729915</td>\n",
              "      <td>Babergh</td>\n",
              "    </tr>\n",
              "    <tr>\n",
              "      <th>3</th>\n",
              "      <td>75</td>\n",
              "      <td>Black Horse</td>\n",
              "      <td>Lower Street, Stratford St Mary, COLCHESTER</td>\n",
              "      <td>CO7 6JS</td>\n",
              "      <td>622675</td>\n",
              "      <td>-5527598</td>\n",
              "      <td>\\N</td>\n",
              "      <td>\\N</td>\n",
              "      <td>Babergh</td>\n",
              "    </tr>\n",
              "    <tr>\n",
              "      <th>4</th>\n",
              "      <td>76</td>\n",
              "      <td>Black Lion</td>\n",
              "      <td>Lion Road, Glemsford, SUDBURY</td>\n",
              "      <td>CO10 7RF</td>\n",
              "      <td>622675</td>\n",
              "      <td>-5527598</td>\n",
              "      <td>\\N</td>\n",
              "      <td>\\N</td>\n",
              "      <td>Babergh</td>\n",
              "    </tr>\n",
              "  </tbody>\n",
              "</table>\n",
              "</div>\n",
              "      <button class=\"colab-df-convert\" onclick=\"convertToInteractive('df-1a4b5eb2-2a3e-405f-b4c5-e65fd71836ac')\"\n",
              "              title=\"Convert this dataframe to an interactive table.\"\n",
              "              style=\"display:none;\">\n",
              "        \n",
              "  <svg xmlns=\"http://www.w3.org/2000/svg\" height=\"24px\"viewBox=\"0 0 24 24\"\n",
              "       width=\"24px\">\n",
              "    <path d=\"M0 0h24v24H0V0z\" fill=\"none\"/>\n",
              "    <path d=\"M18.56 5.44l.94 2.06.94-2.06 2.06-.94-2.06-.94-.94-2.06-.94 2.06-2.06.94zm-11 1L8.5 8.5l.94-2.06 2.06-.94-2.06-.94L8.5 2.5l-.94 2.06-2.06.94zm10 10l.94 2.06.94-2.06 2.06-.94-2.06-.94-.94-2.06-.94 2.06-2.06.94z\"/><path d=\"M17.41 7.96l-1.37-1.37c-.4-.4-.92-.59-1.43-.59-.52 0-1.04.2-1.43.59L10.3 9.45l-7.72 7.72c-.78.78-.78 2.05 0 2.83L4 21.41c.39.39.9.59 1.41.59.51 0 1.02-.2 1.41-.59l7.78-7.78 2.81-2.81c.8-.78.8-2.07 0-2.86zM5.41 20L4 18.59l7.72-7.72 1.47 1.35L5.41 20z\"/>\n",
              "  </svg>\n",
              "      </button>\n",
              "      \n",
              "  <style>\n",
              "    .colab-df-container {\n",
              "      display:flex;\n",
              "      flex-wrap:wrap;\n",
              "      gap: 12px;\n",
              "    }\n",
              "\n",
              "    .colab-df-convert {\n",
              "      background-color: #E8F0FE;\n",
              "      border: none;\n",
              "      border-radius: 50%;\n",
              "      cursor: pointer;\n",
              "      display: none;\n",
              "      fill: #1967D2;\n",
              "      height: 32px;\n",
              "      padding: 0 0 0 0;\n",
              "      width: 32px;\n",
              "    }\n",
              "\n",
              "    .colab-df-convert:hover {\n",
              "      background-color: #E2EBFA;\n",
              "      box-shadow: 0px 1px 2px rgba(60, 64, 67, 0.3), 0px 1px 3px 1px rgba(60, 64, 67, 0.15);\n",
              "      fill: #174EA6;\n",
              "    }\n",
              "\n",
              "    [theme=dark] .colab-df-convert {\n",
              "      background-color: #3B4455;\n",
              "      fill: #D2E3FC;\n",
              "    }\n",
              "\n",
              "    [theme=dark] .colab-df-convert:hover {\n",
              "      background-color: #434B5C;\n",
              "      box-shadow: 0px 1px 3px 1px rgba(0, 0, 0, 0.15);\n",
              "      filter: drop-shadow(0px 1px 2px rgba(0, 0, 0, 0.3));\n",
              "      fill: #FFFFFF;\n",
              "    }\n",
              "  </style>\n",
              "\n",
              "      <script>\n",
              "        const buttonEl =\n",
              "          document.querySelector('#df-1a4b5eb2-2a3e-405f-b4c5-e65fd71836ac button.colab-df-convert');\n",
              "        buttonEl.style.display =\n",
              "          google.colab.kernel.accessAllowed ? 'block' : 'none';\n",
              "\n",
              "        async function convertToInteractive(key) {\n",
              "          const element = document.querySelector('#df-1a4b5eb2-2a3e-405f-b4c5-e65fd71836ac');\n",
              "          const dataTable =\n",
              "            await google.colab.kernel.invokeFunction('convertToInteractive',\n",
              "                                                     [key], {});\n",
              "          if (!dataTable) return;\n",
              "\n",
              "          const docLinkHtml = 'Like what you see? Visit the ' +\n",
              "            '<a target=\"_blank\" href=https://colab.research.google.com/notebooks/data_table.ipynb>data table notebook</a>'\n",
              "            + ' to learn more about interactive tables.';\n",
              "          element.innerHTML = '';\n",
              "          dataTable['output_type'] = 'display_data';\n",
              "          await google.colab.output.renderOutput(dataTable, element);\n",
              "          const docLink = document.createElement('div');\n",
              "          docLink.innerHTML = docLinkHtml;\n",
              "          element.appendChild(docLink);\n",
              "        }\n",
              "      </script>\n",
              "    </div>\n",
              "  </div>\n",
              "  "
            ]
          },
          "metadata": {},
          "execution_count": 3
        }
      ]
    },
    {
      "cell_type": "code",
      "source": [
        "pubs.info()"
      ],
      "metadata": {
        "colab": {
          "base_uri": "https://localhost:8080/"
        },
        "id": "--w_PtURp4SX",
        "outputId": "ce3f4793-698c-4cc2-d238-38669a10ee0c"
      },
      "execution_count": null,
      "outputs": [
        {
          "output_type": "stream",
          "name": "stdout",
          "text": [
            "<class 'pandas.core.frame.DataFrame'>\n",
            "RangeIndex: 51331 entries, 0 to 51330\n",
            "Data columns (total 9 columns):\n",
            " #   Column           Non-Null Count  Dtype \n",
            "---  ------           --------------  ----- \n",
            " 0   fsa_id           51331 non-null  int64 \n",
            " 1   name             51331 non-null  object\n",
            " 2   address          51331 non-null  object\n",
            " 3   postcode         51331 non-null  object\n",
            " 4   easting          51331 non-null  int64 \n",
            " 5   northing         51331 non-null  int64 \n",
            " 6   latitude         51331 non-null  object\n",
            " 7   longitude        51331 non-null  object\n",
            " 8   local_authority  51331 non-null  object\n",
            "dtypes: int64(3), object(6)\n",
            "memory usage: 3.5+ MB\n"
          ]
        }
      ]
    },
    {
      "cell_type": "code",
      "source": [
        "pubs = pubs.drop(pubs[pubs['latitude'] == '\\\\N'].index)\n",
        "pubs['longitude'] = pubs['longitude'].astype('float')\n",
        "pubs['latitude'] = pubs['latitude'].astype('float')\n",
        "pubs.info()"
      ],
      "metadata": {
        "colab": {
          "base_uri": "https://localhost:8080/"
        },
        "id": "5o4jDk6RqGiR",
        "outputId": "4f22bcc9-cf9b-47a4-bc07-0aac6571f829"
      },
      "execution_count": null,
      "outputs": [
        {
          "output_type": "stream",
          "name": "stdout",
          "text": [
            "<class 'pandas.core.frame.DataFrame'>\n",
            "Int64Index: 50564 entries, 0 to 51330\n",
            "Data columns (total 9 columns):\n",
            " #   Column           Non-Null Count  Dtype  \n",
            "---  ------           --------------  -----  \n",
            " 0   fsa_id           50564 non-null  int64  \n",
            " 1   name             50564 non-null  object \n",
            " 2   address          50564 non-null  object \n",
            " 3   postcode         50564 non-null  object \n",
            " 4   easting          50564 non-null  int64  \n",
            " 5   northing         50564 non-null  int64  \n",
            " 6   latitude         50564 non-null  float64\n",
            " 7   longitude        50564 non-null  float64\n",
            " 8   local_authority  50564 non-null  object \n",
            "dtypes: float64(2), int64(3), object(4)\n",
            "memory usage: 3.9+ MB\n"
          ]
        }
      ]
    },
    {
      "cell_type": "code",
      "source": [
        "pubs = pubs.drop_duplicates(subset=['latitude',\t'longitude'])"
      ],
      "metadata": {
        "id": "z5Db4ngUwzqZ"
      },
      "execution_count": null,
      "outputs": []
    },
    {
      "cell_type": "code",
      "source": [
        "import requests\n",
        "from bs4 import BeautifulSoup\n",
        "\n",
        "areasurl=\"https://ideal-postcodes.co.uk/guides/postcode-areas\"\n",
        "response=requests.get(areasurl)\n",
        "soup = BeautifulSoup(response.text, 'html.parser')\n",
        "areas_table = soup.find('table')\n",
        "areas = pd.read_html(str(areas_table))\n",
        "areas = pd.DataFrame(areas[0])\n",
        "areas.head(10)"
      ],
      "metadata": {
        "colab": {
          "base_uri": "https://localhost:8080/",
          "height": 363
        },
        "id": "gOQeIODbaLRe",
        "outputId": "40873d57-0cc0-448d-d065-cff9eea26ca8"
      },
      "execution_count": null,
      "outputs": [
        {
          "output_type": "execute_result",
          "data": {
            "text/plain": [
              "  Postcode Area Postcode Area Name           Region\n",
              "0            AB           Aberdeen         Scotland\n",
              "1            AL         St. Albans  East of England\n",
              "2             B         Birmingham    West Midlands\n",
              "3            BA               Bath       South West\n",
              "4            BB          Blackburn       North West\n",
              "5            BD           Bradford       North West\n",
              "6            BH        Bournemouth       South West\n",
              "7            BL             Bolton       North West\n",
              "8            BN           Brighton       South East\n",
              "9            BR            Bromley   Greater London"
            ],
            "text/html": [
              "\n",
              "  <div id=\"df-1108c04b-5730-4285-890f-224dbd201568\">\n",
              "    <div class=\"colab-df-container\">\n",
              "      <div>\n",
              "<style scoped>\n",
              "    .dataframe tbody tr th:only-of-type {\n",
              "        vertical-align: middle;\n",
              "    }\n",
              "\n",
              "    .dataframe tbody tr th {\n",
              "        vertical-align: top;\n",
              "    }\n",
              "\n",
              "    .dataframe thead th {\n",
              "        text-align: right;\n",
              "    }\n",
              "</style>\n",
              "<table border=\"1\" class=\"dataframe\">\n",
              "  <thead>\n",
              "    <tr style=\"text-align: right;\">\n",
              "      <th></th>\n",
              "      <th>Postcode Area</th>\n",
              "      <th>Postcode Area Name</th>\n",
              "      <th>Region</th>\n",
              "    </tr>\n",
              "  </thead>\n",
              "  <tbody>\n",
              "    <tr>\n",
              "      <th>0</th>\n",
              "      <td>AB</td>\n",
              "      <td>Aberdeen</td>\n",
              "      <td>Scotland</td>\n",
              "    </tr>\n",
              "    <tr>\n",
              "      <th>1</th>\n",
              "      <td>AL</td>\n",
              "      <td>St. Albans</td>\n",
              "      <td>East of England</td>\n",
              "    </tr>\n",
              "    <tr>\n",
              "      <th>2</th>\n",
              "      <td>B</td>\n",
              "      <td>Birmingham</td>\n",
              "      <td>West Midlands</td>\n",
              "    </tr>\n",
              "    <tr>\n",
              "      <th>3</th>\n",
              "      <td>BA</td>\n",
              "      <td>Bath</td>\n",
              "      <td>South West</td>\n",
              "    </tr>\n",
              "    <tr>\n",
              "      <th>4</th>\n",
              "      <td>BB</td>\n",
              "      <td>Blackburn</td>\n",
              "      <td>North West</td>\n",
              "    </tr>\n",
              "    <tr>\n",
              "      <th>5</th>\n",
              "      <td>BD</td>\n",
              "      <td>Bradford</td>\n",
              "      <td>North West</td>\n",
              "    </tr>\n",
              "    <tr>\n",
              "      <th>6</th>\n",
              "      <td>BH</td>\n",
              "      <td>Bournemouth</td>\n",
              "      <td>South West</td>\n",
              "    </tr>\n",
              "    <tr>\n",
              "      <th>7</th>\n",
              "      <td>BL</td>\n",
              "      <td>Bolton</td>\n",
              "      <td>North West</td>\n",
              "    </tr>\n",
              "    <tr>\n",
              "      <th>8</th>\n",
              "      <td>BN</td>\n",
              "      <td>Brighton</td>\n",
              "      <td>South East</td>\n",
              "    </tr>\n",
              "    <tr>\n",
              "      <th>9</th>\n",
              "      <td>BR</td>\n",
              "      <td>Bromley</td>\n",
              "      <td>Greater London</td>\n",
              "    </tr>\n",
              "  </tbody>\n",
              "</table>\n",
              "</div>\n",
              "      <button class=\"colab-df-convert\" onclick=\"convertToInteractive('df-1108c04b-5730-4285-890f-224dbd201568')\"\n",
              "              title=\"Convert this dataframe to an interactive table.\"\n",
              "              style=\"display:none;\">\n",
              "        \n",
              "  <svg xmlns=\"http://www.w3.org/2000/svg\" height=\"24px\"viewBox=\"0 0 24 24\"\n",
              "       width=\"24px\">\n",
              "    <path d=\"M0 0h24v24H0V0z\" fill=\"none\"/>\n",
              "    <path d=\"M18.56 5.44l.94 2.06.94-2.06 2.06-.94-2.06-.94-.94-2.06-.94 2.06-2.06.94zm-11 1L8.5 8.5l.94-2.06 2.06-.94-2.06-.94L8.5 2.5l-.94 2.06-2.06.94zm10 10l.94 2.06.94-2.06 2.06-.94-2.06-.94-.94-2.06-.94 2.06-2.06.94z\"/><path d=\"M17.41 7.96l-1.37-1.37c-.4-.4-.92-.59-1.43-.59-.52 0-1.04.2-1.43.59L10.3 9.45l-7.72 7.72c-.78.78-.78 2.05 0 2.83L4 21.41c.39.39.9.59 1.41.59.51 0 1.02-.2 1.41-.59l7.78-7.78 2.81-2.81c.8-.78.8-2.07 0-2.86zM5.41 20L4 18.59l7.72-7.72 1.47 1.35L5.41 20z\"/>\n",
              "  </svg>\n",
              "      </button>\n",
              "      \n",
              "  <style>\n",
              "    .colab-df-container {\n",
              "      display:flex;\n",
              "      flex-wrap:wrap;\n",
              "      gap: 12px;\n",
              "    }\n",
              "\n",
              "    .colab-df-convert {\n",
              "      background-color: #E8F0FE;\n",
              "      border: none;\n",
              "      border-radius: 50%;\n",
              "      cursor: pointer;\n",
              "      display: none;\n",
              "      fill: #1967D2;\n",
              "      height: 32px;\n",
              "      padding: 0 0 0 0;\n",
              "      width: 32px;\n",
              "    }\n",
              "\n",
              "    .colab-df-convert:hover {\n",
              "      background-color: #E2EBFA;\n",
              "      box-shadow: 0px 1px 2px rgba(60, 64, 67, 0.3), 0px 1px 3px 1px rgba(60, 64, 67, 0.15);\n",
              "      fill: #174EA6;\n",
              "    }\n",
              "\n",
              "    [theme=dark] .colab-df-convert {\n",
              "      background-color: #3B4455;\n",
              "      fill: #D2E3FC;\n",
              "    }\n",
              "\n",
              "    [theme=dark] .colab-df-convert:hover {\n",
              "      background-color: #434B5C;\n",
              "      box-shadow: 0px 1px 3px 1px rgba(0, 0, 0, 0.15);\n",
              "      filter: drop-shadow(0px 1px 2px rgba(0, 0, 0, 0.3));\n",
              "      fill: #FFFFFF;\n",
              "    }\n",
              "  </style>\n",
              "\n",
              "      <script>\n",
              "        const buttonEl =\n",
              "          document.querySelector('#df-1108c04b-5730-4285-890f-224dbd201568 button.colab-df-convert');\n",
              "        buttonEl.style.display =\n",
              "          google.colab.kernel.accessAllowed ? 'block' : 'none';\n",
              "\n",
              "        async function convertToInteractive(key) {\n",
              "          const element = document.querySelector('#df-1108c04b-5730-4285-890f-224dbd201568');\n",
              "          const dataTable =\n",
              "            await google.colab.kernel.invokeFunction('convertToInteractive',\n",
              "                                                     [key], {});\n",
              "          if (!dataTable) return;\n",
              "\n",
              "          const docLinkHtml = 'Like what you see? Visit the ' +\n",
              "            '<a target=\"_blank\" href=https://colab.research.google.com/notebooks/data_table.ipynb>data table notebook</a>'\n",
              "            + ' to learn more about interactive tables.';\n",
              "          element.innerHTML = '';\n",
              "          dataTable['output_type'] = 'display_data';\n",
              "          await google.colab.output.renderOutput(dataTable, element);\n",
              "          const docLink = document.createElement('div');\n",
              "          docLink.innerHTML = docLinkHtml;\n",
              "          element.appendChild(docLink);\n",
              "        }\n",
              "      </script>\n",
              "    </div>\n",
              "  </div>\n",
              "  "
            ]
          },
          "metadata": {},
          "execution_count": 7
        }
      ]
    },
    {
      "cell_type": "code",
      "source": [
        "pubs['postcode'].sample(20).values"
      ],
      "metadata": {
        "colab": {
          "base_uri": "https://localhost:8080/"
        },
        "id": "fm6ma318dprG",
        "outputId": "38ff2ae9-4a77-45b8-ad06-77cf0adac7a5"
      },
      "execution_count": null,
      "outputs": [
        {
          "output_type": "execute_result",
          "data": {
            "text/plain": [
              "array(['GL19 4JJ', 'LE11 5AA', 'RG21 5RP', 'SE18 6EF', 'OL3 6AW',\n",
              "       'RH11 9RX', 'SA17 4PR', 'NE61 3AN', 'DD4 9QR', 'DY4 9AU',\n",
              "       'TW20 0XU', 'CV13 0LL', 'NR29 5AA', 'DE11 0TW', 'OL14 7SX',\n",
              "       'SK7 5NU', 'HD7 4ES', 'BB7 2DP', 'TS1 3QB', 'TN3 9UN'],\n",
              "      dtype=object)"
            ]
          },
          "metadata": {},
          "execution_count": 8
        }
      ]
    },
    {
      "cell_type": "code",
      "source": [
        "import re\n",
        "\n",
        "regex = r'^[A-Z]{1,2}'\n",
        "pubs['Postcode Area'] = pubs['postcode'].apply(lambda x: re.search(regex, x).group(0))\n",
        "pubs.info()"
      ],
      "metadata": {
        "colab": {
          "base_uri": "https://localhost:8080/"
        },
        "id": "tmZsXwJdhsza",
        "outputId": "4a1b532e-2595-452c-897b-ccd6078668dc"
      },
      "execution_count": null,
      "outputs": [
        {
          "output_type": "stream",
          "name": "stdout",
          "text": [
            "<class 'pandas.core.frame.DataFrame'>\n",
            "Int64Index: 47338 entries, 0 to 51330\n",
            "Data columns (total 10 columns):\n",
            " #   Column           Non-Null Count  Dtype  \n",
            "---  ------           --------------  -----  \n",
            " 0   fsa_id           47338 non-null  int64  \n",
            " 1   name             47338 non-null  object \n",
            " 2   address          47338 non-null  object \n",
            " 3   postcode         47338 non-null  object \n",
            " 4   easting          47338 non-null  int64  \n",
            " 5   northing         47338 non-null  int64  \n",
            " 6   latitude         47338 non-null  float64\n",
            " 7   longitude        47338 non-null  float64\n",
            " 8   local_authority  47338 non-null  object \n",
            " 9   Postcode Area    47338 non-null  object \n",
            "dtypes: float64(2), int64(3), object(5)\n",
            "memory usage: 4.0+ MB\n"
          ]
        }
      ]
    },
    {
      "cell_type": "code",
      "source": [
        "pubs = pubs.merge(areas[['Postcode Area', 'Postcode Area Name', 'Region']], how='left', on='Postcode Area')\n",
        "pubs.info()"
      ],
      "metadata": {
        "colab": {
          "base_uri": "https://localhost:8080/"
        },
        "id": "hDTBnJuEpCG3",
        "outputId": "1bb07a9a-00de-4043-9c93-c4e9b796f702"
      },
      "execution_count": null,
      "outputs": [
        {
          "output_type": "stream",
          "name": "stdout",
          "text": [
            "<class 'pandas.core.frame.DataFrame'>\n",
            "Int64Index: 47338 entries, 0 to 47337\n",
            "Data columns (total 12 columns):\n",
            " #   Column              Non-Null Count  Dtype  \n",
            "---  ------              --------------  -----  \n",
            " 0   fsa_id              47338 non-null  int64  \n",
            " 1   name                47338 non-null  object \n",
            " 2   address             47338 non-null  object \n",
            " 3   postcode            47338 non-null  object \n",
            " 4   easting             47338 non-null  int64  \n",
            " 5   northing            47338 non-null  int64  \n",
            " 6   latitude            47338 non-null  float64\n",
            " 7   longitude           47338 non-null  float64\n",
            " 8   local_authority     47338 non-null  object \n",
            " 9   Postcode Area       47338 non-null  object \n",
            " 10  Postcode Area Name  47338 non-null  object \n",
            " 11  Region              47338 non-null  object \n",
            "dtypes: float64(2), int64(3), object(7)\n",
            "memory usage: 4.7+ MB\n"
          ]
        }
      ]
    },
    {
      "cell_type": "code",
      "source": [
        "pubs = pubs.rename(columns={'Postcode Area Name': 'area', 'Region': 'region'})"
      ],
      "metadata": {
        "id": "MbzTiQPPbP5D"
      },
      "execution_count": null,
      "outputs": []
    },
    {
      "cell_type": "code",
      "source": [
        "pubs['region'].value_counts()"
      ],
      "metadata": {
        "colab": {
          "base_uri": "https://localhost:8080/"
        },
        "id": "CFax_pJMsrrD",
        "outputId": "91353334-be3f-42ca-d0e3-3b440e616383"
      },
      "execution_count": null,
      "outputs": [
        {
          "output_type": "execute_result",
          "data": {
            "text/plain": [
              "North West         6878\n",
              "South East         5808\n",
              "Greater London     4857\n",
              "South West         4804\n",
              "North East         4763\n",
              "West Midlands      4755\n",
              "East Midlands      4479\n",
              "East of England    3512\n",
              "Scotland           3385\n",
              "Wales              3332\n",
              "East England        765\n",
              "Name: region, dtype: int64"
            ]
          },
          "metadata": {},
          "execution_count": 12
        }
      ]
    },
    {
      "cell_type": "code",
      "source": [
        "pubs['region'] =  pubs['region'].replace('East England', 'East of England')"
      ],
      "metadata": {
        "id": "E06SCImsu7H8"
      },
      "execution_count": null,
      "outputs": []
    },
    {
      "cell_type": "code",
      "source": [
        "pubs.groupby('region')['area'].value_counts()"
      ],
      "metadata": {
        "colab": {
          "base_uri": "https://localhost:8080/"
        },
        "id": "RoSUzP8EcKfc",
        "outputId": "ca9649fe-c6dd-454a-ac82-2dab5fb40505"
      },
      "execution_count": null,
      "outputs": [
        {
          "output_type": "execute_result",
          "data": {
            "text/plain": [
              "region         area         \n",
              "East Midlands  Sheffield        1139\n",
              "               Nottingham        880\n",
              "               Derby             754\n",
              "               Leicester         717\n",
              "               Doncaster         657\n",
              "                                ... \n",
              "West Midlands  Walsall           375\n",
              "               Wolverhampton     332\n",
              "               Worcester         326\n",
              "               Hereford          209\n",
              "               Telford           164\n",
              "Name: area, Length: 112, dtype: int64"
            ]
          },
          "metadata": {},
          "execution_count": 14
        }
      ]
    },
    {
      "cell_type": "code",
      "source": [
        "pubs_new = pubs[['name', 'address', 'latitude', 'longitude', 'region', 'area']]\n",
        "pubs_new.to_csv('pubs.csv', index=False)"
      ],
      "metadata": {
        "id": "5Q1Dquem0l-F"
      },
      "execution_count": null,
      "outputs": []
    }
  ]
}